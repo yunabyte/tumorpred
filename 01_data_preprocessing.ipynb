{
  "nbformat": 4,
  "nbformat_minor": 0,
  "metadata": {
    "colab": {
      "provenance": [],
      "machine_shape": "hm",
      "gpuType": "A100",
      "authorship_tag": "ABX9TyOzandy3/gYdQ5TMjilYbb7"
    },
    "kernelspec": {
      "name": "python3",
      "display_name": "Python 3"
    },
    "language_info": {
      "name": "python"
    },
    "accelerator": "GPU"
  },
  "cells": [
    {
      "cell_type": "code",
      "execution_count": null,
      "metadata": {
        "colab": {
          "base_uri": "https://localhost:8080/"
        },
        "id": "viVPMHfP1jrO",
        "outputId": "7f49951c-7667-420e-e9d8-d7be5575f98f"
      },
      "outputs": [
        {
          "output_type": "stream",
          "name": "stdout",
          "text": [
            "Sat Nov 30 02:12:56 2024       \n",
            "+---------------------------------------------------------------------------------------+\n",
            "| NVIDIA-SMI 535.104.05             Driver Version: 535.104.05   CUDA Version: 12.2     |\n",
            "|-----------------------------------------+----------------------+----------------------+\n",
            "| GPU  Name                 Persistence-M | Bus-Id        Disp.A | Volatile Uncorr. ECC |\n",
            "| Fan  Temp   Perf          Pwr:Usage/Cap |         Memory-Usage | GPU-Util  Compute M. |\n",
            "|                                         |                      |               MIG M. |\n",
            "|=========================================+======================+======================|\n",
            "|   0  NVIDIA A100-SXM4-40GB          Off | 00000000:00:04.0 Off |                    0 |\n",
            "| N/A   34C    P0              50W / 400W |      2MiB / 40960MiB |      0%      Default |\n",
            "|                                         |                      |             Disabled |\n",
            "+-----------------------------------------+----------------------+----------------------+\n",
            "                                                                                         \n",
            "+---------------------------------------------------------------------------------------+\n",
            "| Processes:                                                                            |\n",
            "|  GPU   GI   CI        PID   Type   Process name                            GPU Memory |\n",
            "|        ID   ID                                                             Usage      |\n",
            "|=======================================================================================|\n",
            "|  No running processes found                                                           |\n",
            "+---------------------------------------------------------------------------------------+\n"
          ]
        }
      ],
      "source": [
        "gpu_info = !nvidia-smi\n",
        "gpu_info = '\\n'.join(gpu_info)\n",
        "if gpu_info.find('failed') >= 0:\n",
        "  print('Not connected to a GPU')\n",
        "else:\n",
        "  print(gpu_info)"
      ]
    },
    {
      "cell_type": "code",
      "source": [
        "from psutil import virtual_memory\n",
        "ram_gb = virtual_memory().total / 1e9\n",
        "print('Your runtime has {:.1f} gigabytes of available RAM\\n'.format(ram_gb))\n",
        "\n",
        "if ram_gb < 20:\n",
        "  print('Not using a high-RAM runtime')\n",
        "else:\n",
        "  print('You are using a high-RAM runtime!')"
      ],
      "metadata": {
        "colab": {
          "base_uri": "https://localhost:8080/"
        },
        "id": "wyx7e2f611-A",
        "outputId": "3f3c2782-a22a-401d-ce0d-08cb65516d69"
      },
      "execution_count": null,
      "outputs": [
        {
          "output_type": "stream",
          "name": "stdout",
          "text": [
            "Your runtime has 89.6 gigabytes of available RAM\n",
            "\n",
            "You are using a high-RAM runtime!\n"
          ]
        }
      ]
    },
    {
      "cell_type": "code",
      "source": [
        "# 구글 드라이브 마운트\n",
        "from google.colab import drive\n",
        "drive.mount('/content/drive')"
      ],
      "metadata": {
        "colab": {
          "base_uri": "https://localhost:8080/"
        },
        "id": "MOURju1p880U",
        "outputId": "b01e35af-9ac1-485c-ae91-5b7cbaf8374e"
      },
      "execution_count": null,
      "outputs": [
        {
          "output_type": "stream",
          "name": "stdout",
          "text": [
            "Mounted at /content/drive\n"
          ]
        }
      ]
    },
    {
      "cell_type": "code",
      "source": [
        "import os\n",
        "import shutil\n",
        "\n",
        "# 경로 설정\n",
        "raw_data_path = '/content/drive/MyDrive/tumorpred/raw_data/manifest-1542731028231/Brain-Tumor-Progression'\n",
        "output_path = '/content/drive/MyDrive/tumorpred/data'\n",
        "\n",
        "# 출력 폴더 생성\n",
        "os.makedirs(f\"{output_path}/train/pre\", exist_ok=True)\n",
        "os.makedirs(f\"{output_path}/train/post\", exist_ok=True)\n",
        "os.makedirs(f\"{output_path}/val/pre\", exist_ok=True)\n",
        "os.makedirs(f\"{output_path}/val/post\", exist_ok=True)"
      ],
      "metadata": {
        "id": "yjAb2yeLI1nK"
      },
      "execution_count": null,
      "outputs": []
    },
    {
      "cell_type": "markdown",
      "source": [
        "tumorpred/\n",
        "\n",
        "├── data/\n",
        "\n",
        "│   ├── train/\n",
        "\n",
        "│   │   ├── pre/\n",
        "\n",
        "│   │   │   ├── PGBM-001_pre_FLAIR_01.dcm\n",
        "\n",
        "│   │   │   ├── PGBM-001_pre_T2_01.dcm\n",
        "\n",
        "│   │   │   ├── ...\n",
        "\n",
        "│   │   ├── post/\n",
        "\n",
        "│   │       ├── PGBM-001_post_FLAIR_01.dcm\n",
        "\n",
        "│   │       ├── PGBM-001_post_T2_01.dcm\n",
        "\n",
        "│   │       ├── ...\n",
        "\n",
        "│   ├── val/\n",
        "\n",
        "│       ├── pre/\n",
        "\n",
        "│       ├── post/\n"
      ],
      "metadata": {
        "id": "irjLUX4bLhm8"
      }
    },
    {
      "cell_type": "code",
      "source": [
        "import os\n",
        "import shutil\n",
        "\n",
        "# 원본 데이터 경로\n",
        "source_path = '/content/drive/MyDrive/tumorpred/raw_data/manifest-1542731028231/Brain-Tumor-Progression/PGBM-020/post/FLAIRreg'\n",
        "\n",
        "# 저장 경로\n",
        "output_path = '/content/drive/MyDrive/tumorpred/data/val/post'\n",
        "os.makedirs(output_path, exist_ok=True)  # 저장 폴더 생성\n",
        "\n",
        "# 새로운 파일 이름 규칙 설정\n",
        "prefix = \"PGBM-020_post_FLAIR\"  # 접두사\n",
        "start_idx = 1  # 시작 번호\n",
        "end_idx = 15  # 끝 번호\n",
        "\n",
        "# 파일 이름 변경 및 저장 함수\n",
        "def rename_and_save_files(source_folder, output_folder, prefix, start_idx, end_idx):\n",
        "    \"\"\"\n",
        "    Args:\n",
        "        source_folder (str): 원본 파일이 있는 폴더 경로\n",
        "        output_folder (str): 변경된 파일을 저장할 폴더 경로\n",
        "        prefix (str): 새 파일 이름 접두사\n",
        "        start_idx (int): 시작 번호\n",
        "        end_idx (int): 끝 번호\n",
        "    \"\"\"\n",
        "    # DICOM 파일 정렬 및 선택\n",
        "    files = sorted(os.listdir(source_folder))[:end_idx]\n",
        "\n",
        "    for idx, file in enumerate(files, start=start_idx):\n",
        "        # 슬라이스 번호 생성 (01, 02, ...)\n",
        "        slice_number = str(idx).zfill(2)\n",
        "\n",
        "        # 새 파일 이름 생성\n",
        "        new_name = f\"{prefix}_{slice_number}.dcm\"\n",
        "\n",
        "        # 원본 파일 경로와 새 파일 경로\n",
        "        source_file = os.path.join(source_folder, file)\n",
        "        target_file = os.path.join(output_folder, new_name)\n",
        "\n",
        "        # 파일 복사 및 이름 변경\n",
        "        shutil.copy(source_file, target_file)\n",
        "        print(f\"Copied and renamed: {source_file} -> {target_file}\")\n",
        "\n",
        "# 실행\n",
        "rename_and_save_files(source_path, output_path, prefix, start_idx, end_idx)"
      ],
      "metadata": {
        "colab": {
          "base_uri": "https://localhost:8080/"
        },
        "id": "kD9YbVcML-7W",
        "outputId": "d0f8f19e-23da-4bd5-ae8c-c13098165049"
      },
      "execution_count": null,
      "outputs": [
        {
          "output_type": "stream",
          "name": "stdout",
          "text": [
            "Copied and renamed: /content/drive/MyDrive/tumorpred/raw_data/manifest-1542731028231/Brain-Tumor-Progression/PGBM-020/post/FLAIRreg/1-06.dcm -> /content/drive/MyDrive/tumorpred/data/val/post/PGBM-020_post_FLAIR_01.dcm\n",
            "Copied and renamed: /content/drive/MyDrive/tumorpred/raw_data/manifest-1542731028231/Brain-Tumor-Progression/PGBM-020/post/FLAIRreg/1-07.dcm -> /content/drive/MyDrive/tumorpred/data/val/post/PGBM-020_post_FLAIR_02.dcm\n",
            "Copied and renamed: /content/drive/MyDrive/tumorpred/raw_data/manifest-1542731028231/Brain-Tumor-Progression/PGBM-020/post/FLAIRreg/1-08.dcm -> /content/drive/MyDrive/tumorpred/data/val/post/PGBM-020_post_FLAIR_03.dcm\n",
            "Copied and renamed: /content/drive/MyDrive/tumorpred/raw_data/manifest-1542731028231/Brain-Tumor-Progression/PGBM-020/post/FLAIRreg/1-09.dcm -> /content/drive/MyDrive/tumorpred/data/val/post/PGBM-020_post_FLAIR_04.dcm\n",
            "Copied and renamed: /content/drive/MyDrive/tumorpred/raw_data/manifest-1542731028231/Brain-Tumor-Progression/PGBM-020/post/FLAIRreg/1-10.dcm -> /content/drive/MyDrive/tumorpred/data/val/post/PGBM-020_post_FLAIR_05.dcm\n",
            "Copied and renamed: /content/drive/MyDrive/tumorpred/raw_data/manifest-1542731028231/Brain-Tumor-Progression/PGBM-020/post/FLAIRreg/1-11.dcm -> /content/drive/MyDrive/tumorpred/data/val/post/PGBM-020_post_FLAIR_06.dcm\n",
            "Copied and renamed: /content/drive/MyDrive/tumorpred/raw_data/manifest-1542731028231/Brain-Tumor-Progression/PGBM-020/post/FLAIRreg/1-12.dcm -> /content/drive/MyDrive/tumorpred/data/val/post/PGBM-020_post_FLAIR_07.dcm\n",
            "Copied and renamed: /content/drive/MyDrive/tumorpred/raw_data/manifest-1542731028231/Brain-Tumor-Progression/PGBM-020/post/FLAIRreg/1-13.dcm -> /content/drive/MyDrive/tumorpred/data/val/post/PGBM-020_post_FLAIR_08.dcm\n",
            "Copied and renamed: /content/drive/MyDrive/tumorpred/raw_data/manifest-1542731028231/Brain-Tumor-Progression/PGBM-020/post/FLAIRreg/1-14.dcm -> /content/drive/MyDrive/tumorpred/data/val/post/PGBM-020_post_FLAIR_09.dcm\n",
            "Copied and renamed: /content/drive/MyDrive/tumorpred/raw_data/manifest-1542731028231/Brain-Tumor-Progression/PGBM-020/post/FLAIRreg/1-15.dcm -> /content/drive/MyDrive/tumorpred/data/val/post/PGBM-020_post_FLAIR_10.dcm\n",
            "Copied and renamed: /content/drive/MyDrive/tumorpred/raw_data/manifest-1542731028231/Brain-Tumor-Progression/PGBM-020/post/FLAIRreg/1-16.dcm -> /content/drive/MyDrive/tumorpred/data/val/post/PGBM-020_post_FLAIR_11.dcm\n",
            "Copied and renamed: /content/drive/MyDrive/tumorpred/raw_data/manifest-1542731028231/Brain-Tumor-Progression/PGBM-020/post/FLAIRreg/1-17.dcm -> /content/drive/MyDrive/tumorpred/data/val/post/PGBM-020_post_FLAIR_12.dcm\n",
            "Copied and renamed: /content/drive/MyDrive/tumorpred/raw_data/manifest-1542731028231/Brain-Tumor-Progression/PGBM-020/post/FLAIRreg/1-18.dcm -> /content/drive/MyDrive/tumorpred/data/val/post/PGBM-020_post_FLAIR_13.dcm\n",
            "Copied and renamed: /content/drive/MyDrive/tumorpred/raw_data/manifest-1542731028231/Brain-Tumor-Progression/PGBM-020/post/FLAIRreg/1-19.dcm -> /content/drive/MyDrive/tumorpred/data/val/post/PGBM-020_post_FLAIR_14.dcm\n",
            "Copied and renamed: /content/drive/MyDrive/tumorpred/raw_data/manifest-1542731028231/Brain-Tumor-Progression/PGBM-020/post/FLAIRreg/1-20.dcm -> /content/drive/MyDrive/tumorpred/data/val/post/PGBM-020_post_FLAIR_15.dcm\n"
          ]
        }
      ]
    },
    {
      "cell_type": "code",
      "source": [
        "import os\n",
        "import shutil\n",
        "\n",
        "# 원본 데이터 경로\n",
        "source_path = '/content/drive/MyDrive/tumorpred/raw_data/manifest-1542731028231/Brain-Tumor-Progression/PGBM-020/post/T2reg'\n",
        "\n",
        "# 저장 경로\n",
        "output_path = '/content/drive/MyDrive/tumorpred/data/val/post'\n",
        "os.makedirs(output_path, exist_ok=True)  # 저장 폴더 생성\n",
        "\n",
        "# 새로운 파일 이름 규칙 설정\n",
        "prefix = \"PGBM-020_post_T2\"  # 접두사\n",
        "start_idx = 1  # 시작 번호\n",
        "end_idx = 15  # 끝 번호\n",
        "\n",
        "# 파일 이름 변경 및 저장 함수\n",
        "def rename_and_save_files(source_folder, output_folder, prefix, start_idx, end_idx):\n",
        "    \"\"\"\n",
        "    Args:\n",
        "        source_folder (str): 원본 파일이 있는 폴더 경로\n",
        "        output_folder (str): 변경된 파일을 저장할 폴더 경로\n",
        "        prefix (str): 새 파일 이름 접두사\n",
        "        start_idx (int): 시작 번호\n",
        "        end_idx (int): 끝 번호\n",
        "    \"\"\"\n",
        "    # DICOM 파일 정렬 및 선택\n",
        "    files = sorted(os.listdir(source_folder))[:end_idx]\n",
        "\n",
        "    for idx, file in enumerate(files, start=start_idx):\n",
        "        # 슬라이스 번호 생성 (01, 02, ...)\n",
        "        slice_number = str(idx).zfill(2)\n",
        "\n",
        "        # 새 파일 이름 생성\n",
        "        new_name = f\"{prefix}_{slice_number}.dcm\"\n",
        "\n",
        "        # 원본 파일 경로와 새 파일 경로\n",
        "        source_file = os.path.join(source_folder, file)\n",
        "        target_file = os.path.join(output_folder, new_name)\n",
        "\n",
        "        # 파일 복사 및 이름 변경\n",
        "        shutil.copy(source_file, target_file)\n",
        "        print(f\"Copied and renamed: {source_file} -> {target_file}\")\n",
        "\n",
        "# 실행\n",
        "rename_and_save_files(source_path, output_path, prefix, start_idx, end_idx)"
      ],
      "metadata": {
        "colab": {
          "base_uri": "https://localhost:8080/"
        },
        "id": "Ufx0LNR5Qqbt",
        "outputId": "42d74ab9-2d77-4706-fc8a-b97661185009"
      },
      "execution_count": null,
      "outputs": [
        {
          "output_type": "stream",
          "name": "stdout",
          "text": [
            "Copied and renamed: /content/drive/MyDrive/tumorpred/raw_data/manifest-1542731028231/Brain-Tumor-Progression/PGBM-020/post/T2reg/1-06.dcm -> /content/drive/MyDrive/tumorpred/data/val/post/PGBM-020_post_T2_01.dcm\n",
            "Copied and renamed: /content/drive/MyDrive/tumorpred/raw_data/manifest-1542731028231/Brain-Tumor-Progression/PGBM-020/post/T2reg/1-07.dcm -> /content/drive/MyDrive/tumorpred/data/val/post/PGBM-020_post_T2_02.dcm\n",
            "Copied and renamed: /content/drive/MyDrive/tumorpred/raw_data/manifest-1542731028231/Brain-Tumor-Progression/PGBM-020/post/T2reg/1-08.dcm -> /content/drive/MyDrive/tumorpred/data/val/post/PGBM-020_post_T2_03.dcm\n",
            "Copied and renamed: /content/drive/MyDrive/tumorpred/raw_data/manifest-1542731028231/Brain-Tumor-Progression/PGBM-020/post/T2reg/1-09.dcm -> /content/drive/MyDrive/tumorpred/data/val/post/PGBM-020_post_T2_04.dcm\n",
            "Copied and renamed: /content/drive/MyDrive/tumorpred/raw_data/manifest-1542731028231/Brain-Tumor-Progression/PGBM-020/post/T2reg/1-10.dcm -> /content/drive/MyDrive/tumorpred/data/val/post/PGBM-020_post_T2_05.dcm\n",
            "Copied and renamed: /content/drive/MyDrive/tumorpred/raw_data/manifest-1542731028231/Brain-Tumor-Progression/PGBM-020/post/T2reg/1-11.dcm -> /content/drive/MyDrive/tumorpred/data/val/post/PGBM-020_post_T2_06.dcm\n",
            "Copied and renamed: /content/drive/MyDrive/tumorpred/raw_data/manifest-1542731028231/Brain-Tumor-Progression/PGBM-020/post/T2reg/1-12.dcm -> /content/drive/MyDrive/tumorpred/data/val/post/PGBM-020_post_T2_07.dcm\n",
            "Copied and renamed: /content/drive/MyDrive/tumorpred/raw_data/manifest-1542731028231/Brain-Tumor-Progression/PGBM-020/post/T2reg/1-13.dcm -> /content/drive/MyDrive/tumorpred/data/val/post/PGBM-020_post_T2_08.dcm\n",
            "Copied and renamed: /content/drive/MyDrive/tumorpred/raw_data/manifest-1542731028231/Brain-Tumor-Progression/PGBM-020/post/T2reg/1-14.dcm -> /content/drive/MyDrive/tumorpred/data/val/post/PGBM-020_post_T2_09.dcm\n",
            "Copied and renamed: /content/drive/MyDrive/tumorpred/raw_data/manifest-1542731028231/Brain-Tumor-Progression/PGBM-020/post/T2reg/1-15.dcm -> /content/drive/MyDrive/tumorpred/data/val/post/PGBM-020_post_T2_10.dcm\n",
            "Copied and renamed: /content/drive/MyDrive/tumorpred/raw_data/manifest-1542731028231/Brain-Tumor-Progression/PGBM-020/post/T2reg/1-16.dcm -> /content/drive/MyDrive/tumorpred/data/val/post/PGBM-020_post_T2_11.dcm\n",
            "Copied and renamed: /content/drive/MyDrive/tumorpred/raw_data/manifest-1542731028231/Brain-Tumor-Progression/PGBM-020/post/T2reg/1-17.dcm -> /content/drive/MyDrive/tumorpred/data/val/post/PGBM-020_post_T2_12.dcm\n",
            "Copied and renamed: /content/drive/MyDrive/tumorpred/raw_data/manifest-1542731028231/Brain-Tumor-Progression/PGBM-020/post/T2reg/1-18.dcm -> /content/drive/MyDrive/tumorpred/data/val/post/PGBM-020_post_T2_13.dcm\n",
            "Copied and renamed: /content/drive/MyDrive/tumorpred/raw_data/manifest-1542731028231/Brain-Tumor-Progression/PGBM-020/post/T2reg/1-19.dcm -> /content/drive/MyDrive/tumorpred/data/val/post/PGBM-020_post_T2_14.dcm\n",
            "Copied and renamed: /content/drive/MyDrive/tumorpred/raw_data/manifest-1542731028231/Brain-Tumor-Progression/PGBM-020/post/T2reg/1-20.dcm -> /content/drive/MyDrive/tumorpred/data/val/post/PGBM-020_post_T2_15.dcm\n"
          ]
        }
      ]
    },
    {
      "cell_type": "code",
      "source": [
        "import os\n",
        "import shutil\n",
        "\n",
        "# 원본 데이터 경로\n",
        "source_path = '/content/drive/MyDrive/tumorpred/raw_data/manifest-1542731028231/Brain-Tumor-Progression/PGBM-020/pre/FLAIRreg'\n",
        "\n",
        "# 저장 경로\n",
        "output_path = '/content/drive/MyDrive/tumorpred/data/val/pre'\n",
        "os.makedirs(output_path, exist_ok=True)  # 저장 폴더 생성\n",
        "\n",
        "# 새로운 파일 이름 규칙 설정\n",
        "prefix = \"PGBM-020_pre_FLAIR\"  # 접두사\n",
        "start_idx = 1  # 시작 번호\n",
        "end_idx = 15  # 끝 번호\n",
        "\n",
        "# 파일 이름 변경 및 저장 함수\n",
        "def rename_and_save_files(source_folder, output_folder, prefix, start_idx, end_idx):\n",
        "    \"\"\"\n",
        "    Args:\n",
        "        source_folder (str): 원본 파일이 있는 폴더 경로\n",
        "        output_folder (str): 변경된 파일을 저장할 폴더 경로\n",
        "        prefix (str): 새 파일 이름 접두사\n",
        "        start_idx (int): 시작 번호\n",
        "        end_idx (int): 끝 번호\n",
        "    \"\"\"\n",
        "    # DICOM 파일 정렬 및 선택\n",
        "    files = sorted(os.listdir(source_folder))[:end_idx]\n",
        "\n",
        "    for idx, file in enumerate(files, start=start_idx):\n",
        "        # 슬라이스 번호 생성 (01, 02, ...)\n",
        "        slice_number = str(idx).zfill(2)\n",
        "\n",
        "        # 새 파일 이름 생성\n",
        "        new_name = f\"{prefix}_{slice_number}.dcm\"\n",
        "\n",
        "        # 원본 파일 경로와 새 파일 경로\n",
        "        source_file = os.path.join(source_folder, file)\n",
        "        target_file = os.path.join(output_folder, new_name)\n",
        "\n",
        "        # 파일 복사 및 이름 변경\n",
        "        shutil.copy(source_file, target_file)\n",
        "        print(f\"Copied and renamed: {source_file} -> {target_file}\")\n",
        "\n",
        "# 실행\n",
        "rename_and_save_files(source_path, output_path, prefix, start_idx, end_idx)"
      ],
      "metadata": {
        "colab": {
          "base_uri": "https://localhost:8080/"
        },
        "id": "5oRDw6vVQVfy",
        "outputId": "36eb9bed-0a2c-4a55-c54e-e41e2e705f43"
      },
      "execution_count": null,
      "outputs": [
        {
          "output_type": "stream",
          "name": "stdout",
          "text": [
            "Copied and renamed: /content/drive/MyDrive/tumorpred/raw_data/manifest-1542731028231/Brain-Tumor-Progression/PGBM-020/pre/FLAIRreg/1-06.dcm -> /content/drive/MyDrive/tumorpred/data/val/pre/PGBM-020_pre_FLAIR_01.dcm\n",
            "Copied and renamed: /content/drive/MyDrive/tumorpred/raw_data/manifest-1542731028231/Brain-Tumor-Progression/PGBM-020/pre/FLAIRreg/1-07.dcm -> /content/drive/MyDrive/tumorpred/data/val/pre/PGBM-020_pre_FLAIR_02.dcm\n",
            "Copied and renamed: /content/drive/MyDrive/tumorpred/raw_data/manifest-1542731028231/Brain-Tumor-Progression/PGBM-020/pre/FLAIRreg/1-08.dcm -> /content/drive/MyDrive/tumorpred/data/val/pre/PGBM-020_pre_FLAIR_03.dcm\n",
            "Copied and renamed: /content/drive/MyDrive/tumorpred/raw_data/manifest-1542731028231/Brain-Tumor-Progression/PGBM-020/pre/FLAIRreg/1-09.dcm -> /content/drive/MyDrive/tumorpred/data/val/pre/PGBM-020_pre_FLAIR_04.dcm\n",
            "Copied and renamed: /content/drive/MyDrive/tumorpred/raw_data/manifest-1542731028231/Brain-Tumor-Progression/PGBM-020/pre/FLAIRreg/1-10.dcm -> /content/drive/MyDrive/tumorpred/data/val/pre/PGBM-020_pre_FLAIR_05.dcm\n",
            "Copied and renamed: /content/drive/MyDrive/tumorpred/raw_data/manifest-1542731028231/Brain-Tumor-Progression/PGBM-020/pre/FLAIRreg/1-11.dcm -> /content/drive/MyDrive/tumorpred/data/val/pre/PGBM-020_pre_FLAIR_06.dcm\n",
            "Copied and renamed: /content/drive/MyDrive/tumorpred/raw_data/manifest-1542731028231/Brain-Tumor-Progression/PGBM-020/pre/FLAIRreg/1-12.dcm -> /content/drive/MyDrive/tumorpred/data/val/pre/PGBM-020_pre_FLAIR_07.dcm\n",
            "Copied and renamed: /content/drive/MyDrive/tumorpred/raw_data/manifest-1542731028231/Brain-Tumor-Progression/PGBM-020/pre/FLAIRreg/1-13.dcm -> /content/drive/MyDrive/tumorpred/data/val/pre/PGBM-020_pre_FLAIR_08.dcm\n",
            "Copied and renamed: /content/drive/MyDrive/tumorpred/raw_data/manifest-1542731028231/Brain-Tumor-Progression/PGBM-020/pre/FLAIRreg/1-14.dcm -> /content/drive/MyDrive/tumorpred/data/val/pre/PGBM-020_pre_FLAIR_09.dcm\n",
            "Copied and renamed: /content/drive/MyDrive/tumorpred/raw_data/manifest-1542731028231/Brain-Tumor-Progression/PGBM-020/pre/FLAIRreg/1-15.dcm -> /content/drive/MyDrive/tumorpred/data/val/pre/PGBM-020_pre_FLAIR_10.dcm\n",
            "Copied and renamed: /content/drive/MyDrive/tumorpred/raw_data/manifest-1542731028231/Brain-Tumor-Progression/PGBM-020/pre/FLAIRreg/1-16.dcm -> /content/drive/MyDrive/tumorpred/data/val/pre/PGBM-020_pre_FLAIR_11.dcm\n",
            "Copied and renamed: /content/drive/MyDrive/tumorpred/raw_data/manifest-1542731028231/Brain-Tumor-Progression/PGBM-020/pre/FLAIRreg/1-17.dcm -> /content/drive/MyDrive/tumorpred/data/val/pre/PGBM-020_pre_FLAIR_12.dcm\n",
            "Copied and renamed: /content/drive/MyDrive/tumorpred/raw_data/manifest-1542731028231/Brain-Tumor-Progression/PGBM-020/pre/FLAIRreg/1-18.dcm -> /content/drive/MyDrive/tumorpred/data/val/pre/PGBM-020_pre_FLAIR_13.dcm\n",
            "Copied and renamed: /content/drive/MyDrive/tumorpred/raw_data/manifest-1542731028231/Brain-Tumor-Progression/PGBM-020/pre/FLAIRreg/1-19.dcm -> /content/drive/MyDrive/tumorpred/data/val/pre/PGBM-020_pre_FLAIR_14.dcm\n",
            "Copied and renamed: /content/drive/MyDrive/tumorpred/raw_data/manifest-1542731028231/Brain-Tumor-Progression/PGBM-020/pre/FLAIRreg/1-20.dcm -> /content/drive/MyDrive/tumorpred/data/val/pre/PGBM-020_pre_FLAIR_15.dcm\n"
          ]
        }
      ]
    },
    {
      "cell_type": "code",
      "source": [
        "import os\n",
        "import shutil\n",
        "\n",
        "# 원본 데이터 경로\n",
        "source_path = '/content/drive/MyDrive/tumorpred/raw_data/manifest-1542731028231/Brain-Tumor-Progression/PGBM-020/pre/T2reg'\n",
        "\n",
        "# 저장 경로\n",
        "output_path = '/content/drive/MyDrive/tumorpred/data/val/pre'\n",
        "os.makedirs(output_path, exist_ok=True)  # 저장 폴더 생성\n",
        "\n",
        "# 새로운 파일 이름 규칙 설정\n",
        "prefix = \"PGBM-020_pre_T2\"  # 접두사\n",
        "start_idx = 1  # 시작 번호\n",
        "end_idx = 15  # 끝 번호\n",
        "\n",
        "# 파일 이름 변경 및 저장 함수\n",
        "def rename_and_save_files(source_folder, output_folder, prefix, start_idx, end_idx):\n",
        "    \"\"\"\n",
        "    Args:\n",
        "        source_folder (str): 원본 파일이 있는 폴더 경로\n",
        "        output_folder (str): 변경된 파일을 저장할 폴더 경로\n",
        "        prefix (str): 새 파일 이름 접두사\n",
        "        start_idx (int): 시작 번호\n",
        "        end_idx (int): 끝 번호\n",
        "    \"\"\"\n",
        "    # DICOM 파일 정렬 및 선택\n",
        "    files = sorted(os.listdir(source_folder))[:end_idx]\n",
        "\n",
        "    for idx, file in enumerate(files, start=start_idx):\n",
        "        # 슬라이스 번호 생성 (01, 02, ...)\n",
        "        slice_number = str(idx).zfill(2)\n",
        "\n",
        "        # 새 파일 이름 생성\n",
        "        new_name = f\"{prefix}_{slice_number}.dcm\"\n",
        "\n",
        "        # 원본 파일 경로와 새 파일 경로\n",
        "        source_file = os.path.join(source_folder, file)\n",
        "        target_file = os.path.join(output_folder, new_name)\n",
        "\n",
        "        # 파일 복사 및 이름 변경\n",
        "        shutil.copy(source_file, target_file)\n",
        "        print(f\"Copied and renamed: {source_file} -> {target_file}\")\n",
        "\n",
        "# 실행\n",
        "rename_and_save_files(source_path, output_path, prefix, start_idx, end_idx)"
      ],
      "metadata": {
        "colab": {
          "base_uri": "https://localhost:8080/"
        },
        "id": "wusGA2zNRBXT",
        "outputId": "93bd2916-f4eb-4427-ca07-5d40a2abcdc9"
      },
      "execution_count": null,
      "outputs": [
        {
          "output_type": "stream",
          "name": "stdout",
          "text": [
            "Copied and renamed: /content/drive/MyDrive/tumorpred/raw_data/manifest-1542731028231/Brain-Tumor-Progression/PGBM-020/pre/T2reg/1-06.dcm -> /content/drive/MyDrive/tumorpred/data/val/pre/PGBM-020_pre_T2_01.dcm\n",
            "Copied and renamed: /content/drive/MyDrive/tumorpred/raw_data/manifest-1542731028231/Brain-Tumor-Progression/PGBM-020/pre/T2reg/1-07.dcm -> /content/drive/MyDrive/tumorpred/data/val/pre/PGBM-020_pre_T2_02.dcm\n",
            "Copied and renamed: /content/drive/MyDrive/tumorpred/raw_data/manifest-1542731028231/Brain-Tumor-Progression/PGBM-020/pre/T2reg/1-08.dcm -> /content/drive/MyDrive/tumorpred/data/val/pre/PGBM-020_pre_T2_03.dcm\n",
            "Copied and renamed: /content/drive/MyDrive/tumorpred/raw_data/manifest-1542731028231/Brain-Tumor-Progression/PGBM-020/pre/T2reg/1-09.dcm -> /content/drive/MyDrive/tumorpred/data/val/pre/PGBM-020_pre_T2_04.dcm\n",
            "Copied and renamed: /content/drive/MyDrive/tumorpred/raw_data/manifest-1542731028231/Brain-Tumor-Progression/PGBM-020/pre/T2reg/1-10.dcm -> /content/drive/MyDrive/tumorpred/data/val/pre/PGBM-020_pre_T2_05.dcm\n",
            "Copied and renamed: /content/drive/MyDrive/tumorpred/raw_data/manifest-1542731028231/Brain-Tumor-Progression/PGBM-020/pre/T2reg/1-11.dcm -> /content/drive/MyDrive/tumorpred/data/val/pre/PGBM-020_pre_T2_06.dcm\n",
            "Copied and renamed: /content/drive/MyDrive/tumorpred/raw_data/manifest-1542731028231/Brain-Tumor-Progression/PGBM-020/pre/T2reg/1-12.dcm -> /content/drive/MyDrive/tumorpred/data/val/pre/PGBM-020_pre_T2_07.dcm\n",
            "Copied and renamed: /content/drive/MyDrive/tumorpred/raw_data/manifest-1542731028231/Brain-Tumor-Progression/PGBM-020/pre/T2reg/1-13.dcm -> /content/drive/MyDrive/tumorpred/data/val/pre/PGBM-020_pre_T2_08.dcm\n",
            "Copied and renamed: /content/drive/MyDrive/tumorpred/raw_data/manifest-1542731028231/Brain-Tumor-Progression/PGBM-020/pre/T2reg/1-14.dcm -> /content/drive/MyDrive/tumorpred/data/val/pre/PGBM-020_pre_T2_09.dcm\n",
            "Copied and renamed: /content/drive/MyDrive/tumorpred/raw_data/manifest-1542731028231/Brain-Tumor-Progression/PGBM-020/pre/T2reg/1-15.dcm -> /content/drive/MyDrive/tumorpred/data/val/pre/PGBM-020_pre_T2_10.dcm\n",
            "Copied and renamed: /content/drive/MyDrive/tumorpred/raw_data/manifest-1542731028231/Brain-Tumor-Progression/PGBM-020/pre/T2reg/1-16.dcm -> /content/drive/MyDrive/tumorpred/data/val/pre/PGBM-020_pre_T2_11.dcm\n",
            "Copied and renamed: /content/drive/MyDrive/tumorpred/raw_data/manifest-1542731028231/Brain-Tumor-Progression/PGBM-020/pre/T2reg/1-17.dcm -> /content/drive/MyDrive/tumorpred/data/val/pre/PGBM-020_pre_T2_12.dcm\n",
            "Copied and renamed: /content/drive/MyDrive/tumorpred/raw_data/manifest-1542731028231/Brain-Tumor-Progression/PGBM-020/pre/T2reg/1-18.dcm -> /content/drive/MyDrive/tumorpred/data/val/pre/PGBM-020_pre_T2_13.dcm\n",
            "Copied and renamed: /content/drive/MyDrive/tumorpred/raw_data/manifest-1542731028231/Brain-Tumor-Progression/PGBM-020/pre/T2reg/1-19.dcm -> /content/drive/MyDrive/tumorpred/data/val/pre/PGBM-020_pre_T2_14.dcm\n",
            "Copied and renamed: /content/drive/MyDrive/tumorpred/raw_data/manifest-1542731028231/Brain-Tumor-Progression/PGBM-020/pre/T2reg/1-20.dcm -> /content/drive/MyDrive/tumorpred/data/val/pre/PGBM-020_pre_T2_15.dcm\n"
          ]
        }
      ]
    }
  ]
}